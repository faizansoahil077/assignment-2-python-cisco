{
 "cells": [
  {
   "cell_type": "markdown",
   "metadata": {},
   "source": [
    "Write a program which takes 5 inputs from user for different subject’s\n",
    "marks, total it and generate mark sheet using grades ?"
   ]
  },
  {
   "cell_type": "code",
   "execution_count": 3,
   "metadata": {},
   "outputs": [
    {
     "name": "stdout",
     "output_type": "stream",
     "text": [
      "enter marks of Maths : 50\n",
      "enter marks OF English : 40\n",
      "enter marks Of Urdu : 35\n",
      "enter marks of Islamiat: 45\n",
      "enter marks of Computer: 30\n",
      "your total marks are200\n",
      "A grade\n",
      "fail\n"
     ]
    }
   ],
   "source": [
    "Maths = int(input(\"enter marks of Maths : \"))\n",
    "English = int(input(\"enter marks OF English : \"))\n",
    "Urdu = int(input(\"enter marks Of Urdu : \"))\n",
    "Islamiat = int(input(\"enter marks of Islamiat: \"))\n",
    "Computer = int(input(\"enter marks of Computer: \"))\n",
    "Total = Maths+English+Urdu+Islamiat+Computer\n",
    "print(f\"your total marks are{Total}\")\n",
    "if Total > 80:\n",
    "    print(\"A grade\")\n",
    "\n",
    "\n",
    "elif Total <= 79:\n",
    "    print(\"B grade\")    \n",
    "\n",
    "if Total <= 69:\n",
    "    print(\"C grade\")\n",
    "\n",
    "if Total <= 59:\n",
    "    print(\"D grade\")\n",
    "else:\n",
    "    print(\"fail\")"
   ]
  },
  {
   "cell_type": "markdown",
   "metadata": {},
   "source": [
    "Write a program which take input from user and identify that the given\n",
    "number is even or odd?"
   ]
  },
  {
   "cell_type": "code",
   "execution_count": 11,
   "metadata": {},
   "outputs": [
    {
     "name": "stdout",
     "output_type": "stream",
     "text": [
      "Enter a number5\n",
      "The Given Number is Even\n"
     ]
    }
   ],
   "source": [
    "num = int(input(\"Enter a number\"))\n",
    "if num % 2 ==0:\n",
    "    print(\"The Given Number is Even\")\n",
    "else:\n",
    "    print(\"The Given Number is Even\")"
   ]
  },
  {
   "cell_type": "markdown",
   "metadata": {},
   "source": [
    "Write a program which print the length of the list?"
   ]
  },
  {
   "cell_type": "code",
   "execution_count": 1,
   "metadata": {},
   "outputs": [
    {
     "data": {
      "text/plain": [
       "5"
      ]
     },
     "execution_count": 1,
     "metadata": {},
     "output_type": "execute_result"
    }
   ],
   "source": [
    "list=[\"a\",\"b\",\"c\",\"d\",\"e\"]\n",
    "len(list)"
   ]
  },
  {
   "cell_type": "markdown",
   "metadata": {},
   "source": [
    "Write a Python program to sum all the numeric items in a list?"
   ]
  },
  {
   "cell_type": "markdown",
   "metadata": {},
   "source": [
    "Write a Python program to get the largest number from a numeric list."
   ]
  },
  {
   "cell_type": "code",
   "execution_count": null,
   "metadata": {},
   "outputs": [],
   "source": []
  },
  {
   "cell_type": "markdown",
   "metadata": {},
   "source": [
    "write a program that prints out all the elements of the list that are\n",
    "less than 5."
   ]
  },
  {
   "cell_type": "code",
   "execution_count": 14,
   "metadata": {},
   "outputs": [
    {
     "name": "stdout",
     "output_type": "stream",
     "text": [
      "[1, 2, 3, 4, 4, 3]\n"
     ]
    }
   ],
   "source": [
    "num2 = [1,2,3,4,4,3,5,6,7,8,9]\n",
    "new_list=[]\n",
    "for a in num2:\n",
    "    if a<5:\n",
    "        new_list.append(a)\n",
    "print(new_list)\n"
   ]
  },
  {
   "cell_type": "code",
   "execution_count": null,
   "metadata": {},
   "outputs": [],
   "source": []
  }
 ],
 "metadata": {
  "kernelspec": {
   "display_name": "Python 3",
   "language": "python",
   "name": "python3"
  },
  "language_info": {
   "codemirror_mode": {
    "name": "ipython",
    "version": 3
   },
   "file_extension": ".py",
   "mimetype": "text/x-python",
   "name": "python",
   "nbconvert_exporter": "python",
   "pygments_lexer": "ipython3",
   "version": "3.7.3"
  }
 },
 "nbformat": 4,
 "nbformat_minor": 2
}
